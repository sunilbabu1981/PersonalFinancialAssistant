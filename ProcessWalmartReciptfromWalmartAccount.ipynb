{
 "cells": [
  {
   "cell_type": "code",
   "execution_count": 1,
   "id": "4e3a25f9-3da3-43cd-bcbb-a46e10c4d786",
   "metadata": {},
   "outputs": [],
   "source": [
    "import cv2\n",
    "import pytesseract\n",
    "import pandas as pd\n",
    "import re\n",
    "from PIL import Image\n",
    "import os"
   ]
  },
  {
   "cell_type": "code",
   "execution_count": 2,
   "id": "66211b46-6a14-4884-9982-3268fabdeb32",
   "metadata": {},
   "outputs": [
    {
     "name": "stdout",
     "output_type": "stream",
     "text": [
      "C:\\Users\\sunil\\Desktop\\Walmart_Receipt_20241001.txt\n"
     ]
    }
   ],
   "source": [
    "# Replace 'your_receipt_image.jpg' with the path to your image file\n",
    "#image_path = 'PXL_20240925_014423209~2v1.jpg' # clean image\n",
    "image_path = 'Walmart_Receipt_20241001.jpg'\n",
    "#image_path = 'PXL_20240925_014423209~2v1_HighContrast.jpg' # High contrast clean image\n",
    "#image_path = 'PXL_20240925_014423209~2v1_HighContrastGimp1.png' # High contrast clean image\n",
    "#image_path = 'PXL_20240923_014803753.MP~2.jpg' # -> image 4\n",
    "#image_path = 'PXL_20240923_014546368~2.jpg' # -> image 3\n",
    "#image_path = 'PXL_20240922_025356838~2.jpg' # -> image 2\n",
    "#image_path = 'PXL_20240922_050714477~2.jpg' # -> image 1\n",
    "filename , extn = os.path.splitext(image_path)\n",
    "filepath = \"C:\\\\Users\\\\sunil\\\\Desktop\\\\\"\n",
    "output_file_name = filename + '.txt'\n",
    "output_file = filepath + output_file_name\n",
    "print(output_file)\n",
    "img = cv2.imread(image_path)"
   ]
  },
  {
   "cell_type": "code",
   "execution_count": 3,
   "id": "2419ed3c-1ff5-4949-a0ac-296483163c84",
   "metadata": {},
   "outputs": [],
   "source": [
    "# Preprocessing: Convert to grayscale, blur, and threshold\n",
    "gray = cv2.cvtColor(img, cv2.COLOR_BGR2GRAY)\n",
    "gray = cv2.GaussianBlur(gray, (3, 3), 0)\n",
    "_, binary_img = cv2.threshold(gray, 128, 255, cv2.THRESH_BINARY + cv2.THRESH_OTSU)\n",
    "\n",
    "# Dilation to enhance the text\n",
    "kernel = cv2.getStructuringElement(cv2.MORPH_RECT, (2, 2))\n",
    "dilated_img = cv2.dilate(binary_img, kernel, iterations=1)\n",
    "\n",
    "# Perform OCR\n",
    "custom_config = r'--oem 3 --psm 6'\n",
    "extracted_text = pytesseract.image_to_string(dilated_img, config=custom_config)"
   ]
  },
  {
   "cell_type": "code",
   "execution_count": 4,
   "id": "6cc7d539-b8bc-4eef-9a60-1995627e3e1b",
   "metadata": {},
   "outputs": [
    {
     "name": "stdout",
     "output_type": "stream",
     "text": [
      "Save money. Live better.\n",
      "WAL*MART\n",
      "TBD Mgr. TBD\n",
      "5200 WINDWARD PKWY\n",
      "ALPHARETTA, GA\n",
      "ST# 2941 OP# 9016 TE# 16 TR# 4991\n",
      "TAB INDX CR 062603007216 2.42\n",
      "ULTRATAB 007276274730 4.62\n",
      "JPKT CHECK 695803706310 4.96\n",
      "PG lz PRT S 695803709659 4.44\n",
      "SUBTOTAL 14.34\n",
      "TAX 17.75 1.11\n",
      "TOTAL 15.45\n",
      "MASTERCARD DEBIT TEND 15.45\n",
      "MASTERCARD wae wee wee LOOT\n",
      "CHANGE DUE 0.00\n",
      "TCH 4441 z2e98 2144 1311 5248\n",
      "10/01/24 09:10:43\n",
      "\n"
     ]
    }
   ],
   "source": [
    "print(extracted_text)"
   ]
  },
  {
   "cell_type": "code",
   "execution_count": 5,
   "id": "9f610882-cf84-470a-81a9-e92cb79c6248",
   "metadata": {},
   "outputs": [
    {
     "name": "stdout",
     "output_type": "stream",
     "text": [
      "['Save money. Live better.', 'WAL*MART', 'TBD Mgr. TBD', '5200 WINDWARD PKWY', 'ALPHARETTA, GA', 'ST# 2941 OP# 9016 TE# 16 TR# 4991', 'TAB INDX CR 062603007216 2.42', 'ULTRATAB 007276274730 4.62', 'JPKT CHECK 695803706310 4.96', 'PG lz PRT S 695803709659 4.44', 'SUBTOTAL 14.34', 'TAX 17.75 1.11', 'TOTAL 15.45', 'MASTERCARD DEBIT TEND 15.45', 'MASTERCARD wae wee wee LOOT', 'CHANGE DUE 0.00', 'TCH 4441 z2e98 2144 1311 5248', '10/01/24 09:10:43', '']\n"
     ]
    }
   ],
   "source": [
    "# Define regular expressions to capture the two formats of Walmart Headers\n",
    "\n",
    "# Format 1: 3 lines Walmart Header\n",
    "header_format_1 = re.compile(\n",
    "    r\"(You could win a \\$1000 GiftCard!\\nVisit survey\\.walmart\\.com#([A-Za-z0-9]+)\\nFor more details, see back of receipt\\.)\", re.MULTILINE\n",
    ")\n",
    "\n",
    "# Format 2: 2 lines Walmart Header\n",
    "header_format_2 = re.compile(\n",
    "    r\"(Give us feedback @ survey\\.walmart\\.com\\nThank you! ID #:(\\S+))\", re.MULTILINE\n",
    ")\n",
    "\n",
    "header_format_3 = re.compile(\n",
    "    r\"(Save money. Live better.)\", re.MULTILINE\n",
    ")\n",
    "\n",
    "# \"Walmart Logo\" rule (the line \"Walmart ><\")\n",
    "walmart_logo_pattern = re.compile(r\"Walmart ><\", re.MULTILINE)\n",
    "walmart_title_pattern = re.compile(r\"WAL*MART\", re.MULTILINE)\n",
    "\n",
    "# Check for \"Walmart Headers\" , \"Walmart Logo\" and \"walmart title\". extract the Receipt ID and headers\n",
    "receipt_id = None\n",
    "header = None\n",
    "header_contents = None\n",
    "\n",
    "# Extract lines before the \"Walmart Logo\"\n",
    "header_lines = []\n",
    "remaining_text = extracted_text.split(\"\\n\")  # To store the remaining receipt text\n",
    "\n",
    "print(remaining_text)"
   ]
  },
  {
   "cell_type": "code",
   "execution_count": 6,
   "id": "d1491878-c3f7-4958-961f-e35120c62b5f",
   "metadata": {},
   "outputs": [
    {
     "name": "stdout",
     "output_type": "stream",
     "text": [
      "<class 'str'>\n"
     ]
    }
   ],
   "source": [
    "print(type(extracted_text))"
   ]
  },
  {
   "cell_type": "code",
   "execution_count": 7,
   "id": "c9f8f91c-c190-4140-9801-64607407edb1",
   "metadata": {},
   "outputs": [
    {
     "name": "stdout",
     "output_type": "stream",
     "text": [
      "['Save money. Live better.']\n"
     ]
    }
   ],
   "source": [
    "for line in extracted_text.split(\"\\n\"):\n",
    "    if \"WAL*MART\" in line:\n",
    "        break  # Stop when we reach the \"Walmart Logo\"\n",
    "    header_lines.append(line)\n",
    "\n",
    "print(header_lines)\n"
   ]
  },
  {
   "cell_type": "code",
   "execution_count": 8,
   "id": "e4cfa622-239c-4aab-9405-28057b0abe33",
   "metadata": {},
   "outputs": [
    {
     "name": "stdout",
     "output_type": "stream",
     "text": [
      "Walmart Headers Detected: Format 3 (1 line)\n",
      "Receipt ID: None\n",
      "\n",
      "Walmart Header Content:\n",
      "Save money. Live better.\n",
      "\n",
      "Remaining Text after removing Walmart Headers and Walmart Logo:\n",
      "TBD Mgr. TBD\n",
      "5200 WINDWARD PKWY\n",
      "ALPHARETTA, GA\n",
      "ST# 2941 OP# 9016 TE# 16 TR# 4991\n",
      "TAB INDX CR 062603007216 2.42\n",
      "ULTRATAB 007276274730 4.62\n",
      "JPKT CHECK 695803706310 4.96\n",
      "PG lz PRT S 695803709659 4.44\n",
      "SUBTOTAL 14.34\n",
      "TAX 17.75 1.11\n",
      "TOTAL 15.45\n",
      "MASTERCARD DEBIT TEND 15.45\n",
      "MASTERCARD wae wee wee LOOT\n",
      "CHANGE DUE 0.00\n",
      "TCH 4441 z2e98 2144 1311 5248\n",
      "10/01/24 09:10:43\n",
      "\n"
     ]
    }
   ],
   "source": [
    "# Remove the detected \"Walmart Headers\" from the remaining text\n",
    "header_block = \"\\n\".join(header_lines)\n",
    "remaining_text = \"\\n\".join(remaining_text[len(header_lines)+1:])  # Skip Walmart Logo\n",
    "\n",
    "# Check which header format matches and extract the Receipt ID\n",
    "if header_format_1.search(header_block):\n",
    "    header = \"Format 1 (3 lines)\"\n",
    "    match = header_format_1.search(header_block)\n",
    "    header_contents = match.group(1)\n",
    "    receipt_id = match.group(2)\n",
    "elif header_format_2.search(header_block):\n",
    "    header = \"Format 2 (2 lines)\"\n",
    "    match = header_format_2.search(header_block)\n",
    "    header_contents = match.group(1)\n",
    "    receipt_id = match.group(2)\n",
    "elif header_format_3.search(header_block):\n",
    "    header = \"Format 3 (1 line)\"\n",
    "    match = header_format_3.search(header_block)\n",
    "    header_contents = match.group(1)\n",
    "    #receipt_id = match.group(2)\n",
    "\n",
    "# Print the Walmart Headers, Receipt ID, and Walmart Logo\n",
    "if header:\n",
    "    print(f\"Walmart Headers Detected: {header}\")\n",
    "    print(f\"Receipt ID: {receipt_id}\")\n",
    "    print(\"\\nWalmart Header Content:\")\n",
    "    print(header_contents)\n",
    "else:\n",
    "    print(\"No Walmart Headers detected.\")\n",
    "\n",
    "# Check for \"Walmart Logo\" and print it\n",
    "logo_match = walmart_logo_pattern.search(extracted_text)\n",
    "if logo_match:\n",
    "    print(\"\\nWalmart Logo detected:\")\n",
    "    print(\"Walmart ><\")\n",
    "\n",
    "title_match = walmart_title_pattern.search(extracted_text)\n",
    "if title_match:\n",
    "    print(\"\\nWalmart Title detected:\")\n",
    "    print(\"Wal*mart\")\n",
    "\n",
    "# After detection, we remove the header and logo from further use\n",
    "print(\"\\nRemaining Text after removing Walmart Headers and Walmart Logo:\")\n",
    "print(remaining_text)"
   ]
  },
  {
   "cell_type": "code",
   "execution_count": 9,
   "id": "1fcc9093-b832-4f81-8309-fe404302ff16",
   "metadata": {},
   "outputs": [
    {
     "name": "stdout",
     "output_type": "stream",
     "text": [
      "['TBD Mgr. TBD', '5200 WINDWARD PKWY', 'ALPHARETTA, GA', 'ST# 2941 OP# 9016 TE# 16 TR# 4991']\n"
     ]
    }
   ],
   "source": [
    "# Step 3: Detect Store Details section (5 lines after the Walmart Logo)\n",
    "store_details_lines = remaining_text.split(\"\\n\")[:4]  # Capture 4 lines after the logo\n",
    "print(store_details_lines)"
   ]
  },
  {
   "cell_type": "code",
   "execution_count": 10,
   "id": "021a4a01-2a66-496d-8499-f86ee56ad5fe",
   "metadata": {},
   "outputs": [
    {
     "name": "stdout",
     "output_type": "stream",
     "text": [
      "\n",
      "Store Details Section Detected:\n",
      "Store Type: Unknown Store Type\n",
      "Street Address: 5200 WINDWARD PKWY\n",
      "City, State, ZIP: ALPHARETTA, GA\n",
      "Store Number (ST#): 2941\n",
      "Operator Number (OP#): 9016\n",
      "Terminal Number (TE#): 16\n",
      "Transaction Number (TR#): 4991\n"
     ]
    }
   ],
   "source": [
    "\n",
    "\n",
    "if len(store_details_lines) == 4:\n",
    "    print(\"\\nStore Details Section Detected:\")\n",
    "\n",
    "    \n",
    "    # Line 1: Store type and name (e.g., \"WM Supercenter\")\n",
    "    store_type_match = re.search(r\"(Supercenter|Discount Store|Neighborhood Market|Fuel Station|Grocery Pickup|Deli)\", store_details_lines[0])\n",
    "    store_type = store_type_match.group(0) if store_type_match else \"Unknown Store Type\"\n",
    "    print(f\"Store Type: {store_type}\")\n",
    "    \n",
    "    \n",
    "    # Line 2: Store phone number and manager name\n",
    "    phone_manager_match = re.search(r\"(\\d{3}-\\d{3}-\\d{4})\\s+Mgr\\.\\s+([A-Za-z]+)\", store_details_lines[0])\n",
    "    if phone_manager_match:\n",
    "        phone_number = phone_manager_match.group(1)\n",
    "        manager_name = phone_manager_match.group(2)\n",
    "        print(f\"Phone Number: {phone_number}\")\n",
    "        print(f\"Manager: {manager_name}\")\n",
    "    \n",
    "    # Line 3: Street number and name\n",
    "    print(f\"Street Address: {store_details_lines[1]}\")\n",
    "    \n",
    "    # Line 4: City, State, and ZIP code\n",
    "    print(f\"City, State, ZIP: {store_details_lines[2]}\")\n",
    "    \n",
    "    # Line 5: ST#, OP#, TE#, TR# extraction\n",
    "    line_5_match = re.search(r\"ST#\\s*(\\d+)\\s+OP#\\s*(\\d+)\\s+TE#\\s*(\\d+)\\s+TR#\\s*(\\d+)\", store_details_lines[3])\n",
    "    if line_5_match:\n",
    "        store_number = line_5_match.group(1)\n",
    "        operator_number = line_5_match.group(2)\n",
    "        terminal_number = line_5_match.group(3)\n",
    "        transaction_number = line_5_match.group(4)\n",
    "        print(f\"Store Number (ST#): {store_number}\")\n",
    "        print(f\"Operator Number (OP#): {operator_number}\")\n",
    "        print(f\"Terminal Number (TE#): {terminal_number}\")\n",
    "        print(f\"Transaction Number (TR#): {transaction_number}\")\n",
    "    \n",
    "    # Remove the \"Store Details\" section from the remaining text\n",
    "    remaining_text = \"\\n\".join(remaining_text.split(\"\\n\")[4:])\n",
    "else:\n",
    "    print(\"Store Details section not detected properly.\")\n"
   ]
  },
  {
   "cell_type": "code",
   "execution_count": 11,
   "id": "b053e893-feeb-47d2-af9b-88d0093e0470",
   "metadata": {},
   "outputs": [
    {
     "name": "stdout",
     "output_type": "stream",
     "text": [
      "\n",
      "Count of Items Purchased section not detected.\n"
     ]
    }
   ],
   "source": [
    "# Step 4: Detect \"# ITEMS SOLD\" section and find number of items sold\n",
    "items_sold_pattern = re.compile(r\"# ITEMS SOLD\\s+(\\d+)\", re.MULTILINE)\n",
    "items_sold_match = items_sold_pattern.search(remaining_text)\n",
    "\n",
    "if items_sold_match:\n",
    "    items_sold = items_sold_match.group(1)\n",
    "    print(f\"\\nCount of Items Purchased Detected: {items_sold} items sold.\")\n",
    "    \n",
    "    # Remove this section from the remaining text\n",
    "    remaining_text = items_sold_pattern.sub(\"\", remaining_text)\n",
    "else:\n",
    "    print(\"\\nCount of Items Purchased section not detected.\")"
   ]
  },
  {
   "cell_type": "code",
   "execution_count": 12,
   "id": "621c60f4-8629-43ea-b49e-f6eb2f32af17",
   "metadata": {},
   "outputs": [
    {
     "name": "stdout",
     "output_type": "stream",
     "text": [
      "\n",
      "Transaction # section not detected.\n",
      "\n",
      "Remaining Text after removing Transaction #:\n",
      "TAB INDX CR 062603007216 2.42\n",
      "ULTRATAB 007276274730 4.62\n",
      "JPKT CHECK 695803706310 4.96\n",
      "PG lz PRT S 695803709659 4.44\n",
      "SUBTOTAL 14.34\n",
      "TAX 17.75 1.11\n",
      "TOTAL 15.45\n",
      "MASTERCARD DEBIT TEND 15.45\n",
      "MASTERCARD wae wee wee LOOT\n",
      "CHANGE DUE 0.00\n",
      "TCH 4441 z2e98 2144 1311 5248\n",
      "10/01/24 09:10:43\n",
      "\n"
     ]
    }
   ],
   "source": [
    "# Step 5: Detect \"Transaction #\" section, allowing for common OCR errors (like TCH instead of TC#)\n",
    "transaction_pattern = re.compile(r\"T[CCH#]+\\s+(\\d{4}\\s+\\d{4}\\s+\\d{4}\\s+\\d{4}\\s+\\d{4})\", re.MULTILINE)\n",
    "transaction_match = transaction_pattern.search(remaining_text)\n",
    "\n",
    "if transaction_match:\n",
    "    transaction_number = transaction_match.group(1)\n",
    "    print(f\"\\nTransaction # Detected: TC# {transaction_number}\")\n",
    "    \n",
    "    # Remove this section from the remaining text\n",
    "    remaining_text = transaction_pattern.sub(\"\", remaining_text)\n",
    "else:\n",
    "    print(\"\\nTransaction # section not detected.\")\n",
    "\n",
    "# Print remaining text after removing \"Store Details\", \"Count of Items Purchased\", and \"Transaction #\"\n",
    "print(\"\\nRemaining Text after removing Transaction #:\")\n",
    "print(remaining_text)"
   ]
  },
  {
   "cell_type": "code",
   "execution_count": 13,
   "id": "0409d47b-bbeb-43ba-bda6-20ebd4d04616",
   "metadata": {},
   "outputs": [
    {
     "name": "stdout",
     "output_type": "stream",
     "text": [
      "TAB INDX CR 062603007216 2.42\n",
      "ULTRATAB 007276274730 4.62\n",
      "JPKT CHECK 695803706310 4.96\n",
      "PG lz PRT S 695803709659 4.44\n"
     ]
    }
   ],
   "source": [
    "\n",
    "# Extract text before \"SUBTOTAL\"\n",
    "extracted_text2 = remaining_text.split(\"SUBTOTAL\")[0].strip()\n",
    "\n",
    "# Output the result\n",
    "print(extracted_text2)"
   ]
  },
  {
   "cell_type": "code",
   "execution_count": 14,
   "id": "915fbeae-2eb2-4981-b08a-5132f38a1abe",
   "metadata": {},
   "outputs": [
    {
     "name": "stdout",
     "output_type": "stream",
     "text": [
      "Items with complete information in one line:\n",
      "TAB INDX CR 062603007216 2.42\n",
      "ULTRATAB 007276274730 4.62\n",
      "JPKT CHECK 695803706310 4.96\n",
      "PG lz PRT S 695803709659 4.44\n",
      "\n",
      "Items with information spanning two lines:\n"
     ]
    }
   ],
   "source": [
    "# Define regex patterns\n",
    "single_line_pattern = re.compile(r'^.*\\d{10,12}.*\\d+\\.\\d{2}.*$')\n",
    "#weight_item_pattern = re.compile(r'^\\d+\\.\\d{3}\\s*lb\\.\\s*@\\s*\\d+\\s*lb\\.|oz.*\\d+\\.\\d{2}.*$')\n",
    "weight_item_pattern = re.compile(r'^\\d+\\.\\d{3}\\s*[lI]b\\.\\s*@\\s*\\d+\\s*[lI]b\\.|oz.*\\d+\\.\\d{2}.*$')\n",
    "\n",
    "\n",
    "# Split the text into lines\n",
    "lines = extracted_text2.strip().split('\\n')\n",
    "\n",
    "# Initialize lists to store categorized items\n",
    "one_line_items = []\n",
    "two_line_items = []\n",
    "\n",
    "# Loop through the lines and categorize items\n",
    "i = 0\n",
    "while i < len(lines):\n",
    "    line = lines[i].strip()\n",
    "    \n",
    "    # Check if the line matches a single-line item\n",
    "    if single_line_pattern.match(line):\n",
    "        one_line_items.append(line)\n",
    "    \n",
    "    # Check if it's the start of a two-line item (non-priced weighted items)\n",
    "    elif i + 1 < len(lines) and weight_item_pattern.match(lines[i + 1]):\n",
    "        two_line_items.append(f\"{line}\\n{lines[i + 1]}\")\n",
    "        i += 1  # Skip the next line since it's part of the two-line item\n",
    "    \n",
    "    i += 1\n",
    "\n",
    "# Output the results\n",
    "print(\"Items with complete information in one line:\")\n",
    "for item in one_line_items:\n",
    "    print(item)\n",
    "\n",
    "print(\"\\nItems with information spanning two lines:\")\n",
    "for item in two_line_items:\n",
    "    print(item)"
   ]
  },
  {
   "cell_type": "code",
   "execution_count": 15,
   "id": "cba1782a-63d1-4981-bae9-d01a0a7bebad",
   "metadata": {},
   "outputs": [
    {
     "name": "stdout",
     "output_type": "stream",
     "text": [
      "Extracted Information from one-line items:\n",
      "Item: TAB INDX CR, Code: 062603007216, F/R: , Price: 2.42, X/R: \n",
      "Item: ULTRATAB, Code: 007276274730, F/R: , Price: 4.62, X/R: \n",
      "Item: JPKT CHECK, Code: 695803706310, F/R: , Price: 4.96, X/R: \n",
      "Item: PG lz PRT S, Code: 695803709659, F/R: , Price: 4.44, X/R: \n"
     ]
    }
   ],
   "source": [
    "# The new regex to extract data from one_line_items\n",
    "one_line_regex = re.compile(r\"([A-Za-z\\s]+[a-zA-Z0-9\\s]+)\\s+(\\d{10,12}.)\\s*([FR]?)\\s+(\\d+\\.\\d{2})\\s*([xXR]?)\")\n",
    "\n",
    "print(\"Extracted Information from one-line items:\")\n",
    "for item in one_line_items:\n",
    "    match = one_line_regex.match(item)\n",
    "    if match:\n",
    "        item_name = match.group(1)\n",
    "        item_code = match.group(2)\n",
    "        optional_FR = match.group(3)\n",
    "        price = match.group(4)\n",
    "        optional_XR = match.group(5)\n",
    "        \n",
    "        # Display the extracted information\n",
    "        print(f\"Item: {item_name}, Code: {item_code}, F/R: {optional_FR}, Price: {price}, X/R: {optional_XR}\")"
   ]
  },
  {
   "cell_type": "code",
   "execution_count": 16,
   "id": "6d744766-dc61-411c-b9b5-5e9da8faafbe",
   "metadata": {},
   "outputs": [],
   "source": [
    "# New regex for two-line items\n",
    "combined_regex = re.compile(\n",
    "    r\"([A-Za-z\\s]+[A-Za-z])\\s+(\\d{10,12})\\s*([FR]?)\\s+(\\d+\\.\\d{3})\\s*(lb|Ib)\\s*@\\s*(\\d+)\\s*(lb|Ib)\\s*/\\s*(\\d+\\.\\d{2})\\s*(\\d+\\.\\d{2})\\s*([XR]?)\"\n",
    ")\n",
    "two_line_items_list = []\n",
    "for item in two_line_items:\n",
    "    \n",
    "    item_combined = item.replace('\\n', ' ')\n",
    "    two_line_items_list.append(item_combined)\n",
    "    print(f\"Processing item: {item_combined}\")  # To inspect the exact format after combining lines"
   ]
  },
  {
   "cell_type": "code",
   "execution_count": 17,
   "id": "a1dd280a-d2b3-4e8e-ae7f-9b6c9e01bd52",
   "metadata": {},
   "outputs": [],
   "source": [
    "for item in two_line_items_list:\n",
    "    print(item)"
   ]
  },
  {
   "cell_type": "code",
   "execution_count": 18,
   "id": "97ac4371-0374-4911-9e05-61c166d22242",
   "metadata": {},
   "outputs": [
    {
     "name": "stdout",
     "output_type": "stream",
     "text": [
      "\n",
      "Text for Analysis:\n",
      "\n",
      "Weighted Item List:\n",
      "No weighted items found.\n",
      "\n",
      "No matches were found. Let's debug:\n"
     ]
    }
   ],
   "source": [
    "\n",
    "# print the text for weighted items\n",
    "for i in two_line_items_list:\n",
    "    print(i)\n",
    "# Debugging: Print the text we're analyzing\n",
    "print(\"\\nText for Analysis:\")\n",
    "for i, line in enumerate(two_line_items_list):\n",
    "    print(f\"Line {i+1}: {line}\")\n",
    "\n",
    "# Step 1: New simplified regex pattern to capture item name, item code, and price details\n",
    "# Adjusting the pattern to handle price per unit and total price correctly\n",
    "weighted_item_pattern = re.compile(\n",
    "    r\"([A-Za-z\\s]+)\\s+(\\d{10,12})\\s*([FR]?)\\s+(\\d+\\.\\d{3}\\s+(lb|Ib)\\.|oz\\.)\\s+@\\s+1\\s+(lb|Ib)\\.\\s+\\/\\s*(\\d+\\.\\d{2})\\s+(\\d+\\.\\d{2})\\s*([XR]?)\"\n",
    ")\n",
    "\n",
    "# Find all weighted items from the list of lines\n",
    "weighted_items = []\n",
    "for line in two_line_items_list:\n",
    "    match = weighted_item_pattern.findall(line)\n",
    "    if match:\n",
    "        weighted_items.extend(match)\n",
    "\n",
    "# Step 2: Display the weighted item list\n",
    "print(\"\\nWeighted Item List:\")\n",
    "if not weighted_items:\n",
    "    print(\"No weighted items found.\")\n",
    "else:\n",
    "    for item in weighted_items:\n",
    "        item_name = item[0].strip()\n",
    "        item_code = item[1]\n",
    "        optional_code = item[2]\n",
    "        units_purchased_vs_price_per_unit = f\"{item[3]} @ 1 lb. / {item[4]}\"  # Combine weight and price per unit\n",
    "        total_price = item[5]\n",
    "        price_type = item[6]\n",
    "        print(f\"Item: {item_name}, Code: {item_code}, Units Purchased vs Price per Unit: {units_purchased_vs_price_per_unit}, Total Price: {total_price}, Price Type: {price_type}\")\n",
    "\n",
    "# Step 3: Additional debugging if needed\n",
    "if not weighted_items:\n",
    "    print(\"\\nNo matches were found. Let's debug:\")\n",
    "    for line in two_line_items_list:\n",
    "        print(f\"\\nAnalyzing line: {line}\")\n",
    "        for match in re.finditer(r\"\\d{10,12}\", line):\n",
    "            print(f\"Item Code match at position {match.start()}: {match.group(0)}\")\n",
    "        for match in re.finditer(r\"\\d+\\.\\d{3}\\s+(lb\\.|oz\\.)\", line):\n",
    "            print(f\"Weight match at position {match.start()}: {match.group(0)}\")\n",
    "        for match in re.finditer(r\"@\\s+1\\s+lb\\.\\s+\\/\\s*\\d+\\.\\d{2}\", line):\n",
    "            print(f\"Units Purchased vs Price per Unit match at position {match.start()}: {match.group(0)}\")\n",
    "        for match in re.finditer(r\"\\d+\\.\\d{2}\", line):\n",
    "            print(f\"Total Price match at position {match.start()}: {match.group(0)}\")"
   ]
  },
  {
   "cell_type": "code",
   "execution_count": null,
   "id": "49932500-0ff9-48a6-8fe5-387c6f9a94dd",
   "metadata": {},
   "outputs": [],
   "source": []
  }
 ],
 "metadata": {
  "kernelspec": {
   "display_name": "Python 3 (ipykernel)",
   "language": "python",
   "name": "python3"
  },
  "language_info": {
   "codemirror_mode": {
    "name": "ipython",
    "version": 3
   },
   "file_extension": ".py",
   "mimetype": "text/x-python",
   "name": "python",
   "nbconvert_exporter": "python",
   "pygments_lexer": "ipython3",
   "version": "3.11.10"
  }
 },
 "nbformat": 4,
 "nbformat_minor": 5
}
