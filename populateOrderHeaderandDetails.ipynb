{
 "cells": [
  {
   "cell_type": "code",
   "execution_count": 2,
   "id": "619e85ca-a92d-48d9-889f-8eb81e813ebd",
   "metadata": {},
   "outputs": [
    {
     "name": "stdout",
     "output_type": "stream",
     "text": [
      "Appended to existing file: order_header_20241005.csv\n",
      "Appended to existing file: order_details_20241005.csv\n",
      "CSV files processed successfully: order_header_20241005.csv and order_details_20241005.csv\n"
     ]
    }
   ],
   "source": [
    "import csv\n",
    "from datetime import datetime\n",
    "import os\n",
    "\n",
    "def process_orders(order_header_list, order_details_list):\n",
    "    try:\n",
    "        # Get the current date in YYYYMMDD format\n",
    "        current_date = datetime.now().strftime(\"%Y%m%d\")\n",
    "\n",
    "        # Generate file names with the current date appended\n",
    "        order_header_filename = f\"order_header_{current_date}.csv\"\n",
    "        order_details_filename = f\"order_details_{current_date}.csv\"\n",
    "\n",
    "        # Step 1: Write or append to CSV for Order Header\n",
    "        if not os.path.exists(order_header_filename):\n",
    "            # If file does not exist, create it and write the header\n",
    "            with open(order_header_filename, mode='w', newline='') as file:\n",
    "                writer = csv.DictWriter(file, fieldnames=[\"orderid\", \"orderdate\", \"total_items_purchased\", \"store_name\", \"total_amount_spent\"])\n",
    "                writer.writeheader()\n",
    "                for order in order_header_list:\n",
    "                    writer.writerow(order)\n",
    "            print(f\"Created new file: {order_header_filename}\")\n",
    "        else:\n",
    "            # If file exists, open it in append mode and add new rows\n",
    "            with open(order_header_filename, mode='a', newline='') as file:\n",
    "                writer = csv.DictWriter(file, fieldnames=[\"orderid\", \"orderdate\", \"total_items_purchased\", \"store_name\", \"total_amount_spent\"])\n",
    "                for order in order_header_list:\n",
    "                    writer.writerow(order)\n",
    "            print(f\"Appended to existing file: {order_header_filename}\")\n",
    "\n",
    "        # Step 2: Write or append to CSV for Order Details\n",
    "        if not os.path.exists(order_details_filename):\n",
    "            # If file does not exist, create it and write the header\n",
    "            with open(order_details_filename, mode='w', newline='') as file:\n",
    "                writer = csv.DictWriter(file, fieldnames=[\"orderid\", \"itemcode\", \"itemname\", \"price_per_unit\", \"price_of_item\", \"price_type\"])\n",
    "                writer.writeheader()\n",
    "                for order_items in order_details_list:\n",
    "                    for item in order_items:\n",
    "                        writer.writerow(item)\n",
    "            print(f\"Created new file: {order_details_filename}\")\n",
    "        else:\n",
    "            # If file exists, open it in append mode and add new rows\n",
    "            with open(order_details_filename, mode='a', newline='') as file:\n",
    "                writer = csv.DictWriter(file, fieldnames=[\"orderid\", \"itemcode\", \"itemname\", \"price_per_unit\", \"price_of_item\", \"price_type\"])\n",
    "                for order_items in order_details_list:\n",
    "                    for item in order_items:\n",
    "                        writer.writerow(item)\n",
    "            print(f\"Appended to existing file: {order_details_filename}\")\n",
    "\n",
    "        print(f\"CSV files processed successfully: {order_header_filename} and {order_details_filename}\")\n",
    "\n",
    "    except Exception as e:\n",
    "        print(f\"Error occurred during CSV processing: {str(e)}\")\n",
    "\n",
    "# Example input for the first list (Order Header)\n",
    "order_header_list = [\n",
    "    {\"orderid\": 1001, \"orderdate\": \"2024-09-30\", \"total_items_purchased\": 5, \"store_name\": \"Walmart\", \"total_amount_spent\": 100.50},\n",
    "    {\"orderid\": 1002, \"orderdate\": \"2024-10-01\", \"total_items_purchased\": 3, \"store_name\": \"Target\", \"total_amount_spent\": 75.00}\n",
    "]\n",
    "\n",
    "# Example input for the second list (Order Details)\n",
    "order_details_list = [\n",
    "    [\n",
    "        {\"orderid\": 1001, \"itemcode\": \"A123\", \"itemname\": \"Apple\", \"price_per_unit\": 0.50, \"price_of_item\": 2.50, \"price_type\": \"R\"},\n",
    "        {\"orderid\": 1001, \"itemcode\": \"B456\", \"itemname\": \"Banana\", \"price_per_unit\": 0.30, \"price_of_item\": 1.50, \"price_type\": \"R\"},\n",
    "        {\"orderid\": 1001, \"itemcode\": \"C789\", \"itemname\": \"Carrot\", \"price_per_unit\": 1.00, \"price_of_item\": 3.00, \"price_type\": \"C\"}\n",
    "    ],\n",
    "    [\n",
    "        {\"orderid\": 1002, \"itemcode\": \"D123\", \"itemname\": \"Detergent\", \"price_per_unit\": 5.00, \"price_of_item\": 15.00, \"price_type\": \"R\"},\n",
    "        {\"orderid\": 1002, \"itemcode\": \"E456\", \"itemname\": \"Eggs\", \"price_per_unit\": 2.50, \"price_of_item\": 7.50, \"price_type\": \"R\"}\n",
    "    ]\n",
    "]\n",
    "\n",
    "# Call the function to process the orders\n",
    "process_orders(order_header_list, order_details_list)\n"
   ]
  },
  {
   "cell_type": "code",
   "execution_count": null,
   "id": "f52562ee-71ed-41f8-8606-eb682a5a706f",
   "metadata": {},
   "outputs": [],
   "source": []
  }
 ],
 "metadata": {
  "kernelspec": {
   "display_name": "Python 3 (ipykernel)",
   "language": "python",
   "name": "python3"
  },
  "language_info": {
   "codemirror_mode": {
    "name": "ipython",
    "version": 3
   },
   "file_extension": ".py",
   "mimetype": "text/x-python",
   "name": "python",
   "nbconvert_exporter": "python",
   "pygments_lexer": "ipython3",
   "version": "3.11.10"
  }
 },
 "nbformat": 4,
 "nbformat_minor": 5
}
